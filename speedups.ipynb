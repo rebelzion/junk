{
 "cells": [
  {
   "cell_type": "code",
   "execution_count": 2,
   "id": "cccd3ede",
   "metadata": {},
   "outputs": [],
   "source": [
    "import random\n",
    "import math"
   ]
  },
  {
   "cell_type": "markdown",
   "id": "8fbb7673",
   "metadata": {},
   "source": [
    "## Exploring the `eval` function."
   ]
  },
  {
   "cell_type": "code",
   "execution_count": 5,
   "id": "35a2edb3",
   "metadata": {},
   "outputs": [],
   "source": [
    "expression = \"{} * math.sin({})\"\n",
    "lambda_expression = \"lambda a,b: a * math.sin(b)\"\n",
    "as_func = eval(lambda_expression)"
   ]
  },
  {
   "cell_type": "markdown",
   "id": "dc88ba95",
   "metadata": {},
   "source": [
    "### Slow version: using eval."
   ]
  },
  {
   "cell_type": "code",
   "execution_count": 4,
   "id": "f3777eed",
   "metadata": {},
   "outputs": [
    {
     "name": "stdout",
     "output_type": "stream",
     "text": [
      "6.17 µs ± 53.9 ns per loop (mean ± std. dev. of 7 runs, 100000 loops each)\n"
     ]
    }
   ],
   "source": [
    "%%timeit\n",
    "res = eval(expression.format(random.randint(1, 10_000), random.randint(1, 10_000)))"
   ]
  },
  {
   "cell_type": "markdown",
   "id": "b64761d2",
   "metadata": {},
   "source": [
    "### Faster version: using a lambda function is almost 6x faster!"
   ]
  },
  {
   "cell_type": "code",
   "execution_count": 6,
   "id": "30ca1725",
   "metadata": {},
   "outputs": [
    {
     "name": "stdout",
     "output_type": "stream",
     "text": [
      "1.06 µs ± 8.41 ns per loop (mean ± std. dev. of 7 runs, 1000000 loops each)\n"
     ]
    }
   ],
   "source": [
    "%%timeit\n",
    "res = as_func(random.randint(1, 10_000), random.randint(1, 10_000))"
   ]
  }
 ],
 "metadata": {
  "kernelspec": {
   "display_name": "Python 3",
   "language": "python",
   "name": "python3"
  },
  "language_info": {
   "codemirror_mode": {
    "name": "ipython",
    "version": 3
   },
   "file_extension": ".py",
   "mimetype": "text/x-python",
   "name": "python",
   "nbconvert_exporter": "python",
   "pygments_lexer": "ipython3",
   "version": "3.8.8"
  }
 },
 "nbformat": 4,
 "nbformat_minor": 5
}
