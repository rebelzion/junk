{
 "cells": [
  {
   "cell_type": "code",
   "execution_count": 34,
   "metadata": {},
   "outputs": [],
   "source": [
    "import os\n",
    "import random\n",
    "\n",
    "import torch\n",
    "import torch.functional as F\n",
    "import torch.nn as nn\n",
    "import matplotlib.pyplot as plt\n",
    "import tqdm\n",
    "import numpy as np\n",
    "\n",
    "%matplotlib inline"
   ]
  },
  {
   "cell_type": "code",
   "execution_count": 35,
   "metadata": {},
   "outputs": [],
   "source": [
    "CONTEXT_SIZE = 3\n",
    "EMBEDDING_DIM = 2\n",
    "NUM_CHARACTERS = 27"
   ]
  },
  {
   "cell_type": "code",
   "execution_count": 56,
   "metadata": {},
   "outputs": [],
   "source": [
    "device = torch.device(\"cuda\" if torch.cuda.is_available() else \"cpu\")\n",
    "generator = torch.Generator().manual_seed(42)"
   ]
  },
  {
   "cell_type": "code",
   "execution_count": 36,
   "metadata": {},
   "outputs": [],
   "source": [
    "with open(\"../names.txt\", \"r\") as f:\n",
    "    names = f.read().splitlines()"
   ]
  },
  {
   "cell_type": "code",
   "execution_count": 37,
   "metadata": {},
   "outputs": [
    {
     "name": "stdout",
     "output_type": "stream",
     "text": [
      "{1: 'a', 2: 'b', 3: 'c', 4: 'd', 5: 'e', 6: 'f', 7: 'g', 8: 'h', 9: 'i', 10: 'j', 11: 'k', 12: 'l', 13: 'm', 14: 'n', 15: 'o', 16: 'p', 17: 'q', 18: 'r', 19: 's', 20: 't', 21: 'u', 22: 'v', 23: 'w', 24: 'x', 25: 'y', 26: 'z', 0: '.'}\n"
     ]
    }
   ],
   "source": [
    "characters = sorted(set(list(''.join(names))))\n",
    "stoi = {c: i+1 for i, c in enumerate(characters)}\n",
    "stoi['.'] = 0\n",
    "itos = {i: c for c, i in stoi.items()}\n",
    "print(itos)"
   ]
  },
  {
   "cell_type": "code",
   "execution_count": 117,
   "metadata": {},
   "outputs": [],
   "source": [
    "def build_dataset(words, context_size=CONTEXT_SIZE, shuffle=False, seed=None):\n",
    "    X, Y  = [], []\n",
    "\n",
    "    if shuffle:\n",
    "        random.seed(seed)\n",
    "        random.shuffle(words)\n",
    "\n",
    "    for w in words:\n",
    "        context = [0] * context_size\n",
    "        for c in w + '.':\n",
    "            ix = stoi[c]\n",
    "            X.append(context)\n",
    "            Y.append(ix)\n",
    "\n",
    "            # print(f\"{''.join(map(lambda x: itos[x], context))} ---> {itos[ix]}\")\n",
    "\n",
    "            context = context[1:] + [ix]\n",
    "\n",
    "    X = torch.tensor(X, dtype=torch.long)\n",
    "    Y = torch.tensor(Y, dtype=torch.long)\n",
    "\n",
    "    print(f\"X.shape: {X.shape}, Y.shape: {Y.shape}\")\n",
    "\n",
    "    return X, Y\n",
    "\n",
    "def split_dataset(X, Y, train_ratio=0.8, val_ratio=0.1):\n",
    "\n",
    "\n",
    "    n1 = int(train_ratio * X.shape[0])\n",
    "    n2 = int((train_ratio + val_ratio) * X.shape[0])\n",
    "\n",
    "    X_t, Y_t = X[:n1], Y[:n1]\n",
    "    X_v, Y_v = X[n1:n2], Y[n1:n2]\n",
    "    X_test, Y_test = X[n2:], Y[n2:]\n",
    "\n",
    "    print(f\"X_t.shape: {X_t.shape}, Y_t.shape: {Y_t.shape}\")\n",
    "    print(f\"X_v.shape: {X_v.shape}, Y_v.shape: {Y_v.shape}\")\n",
    "    print(f\"X_test.shape: {X_test.shape}, Y_test.shape: {Y_test.shape}\")\n",
    "    assert(X.shape[0] == X_t.shape[0] + X_v.shape[0] + X_test.shape[0])\n",
    "\n",
    "    return X_t, Y_t, X_v, Y_v, X_test, Y_test\n",
    "\n",
    "\n",
    "class MLP(nn.Module):\n",
    "    def __init__(\n",
    "        self,\n",
    "        num_characters=NUM_CHARACTERS,\n",
    "        embedding_dim=EMBEDDING_DIM,\n",
    "        context_size=CONTEXT_SIZE,\n",
    "        hidden_dim=100,\n",
    "        generator=None,\n",
    "    ):\n",
    "        super().__init__()\n",
    "\n",
    "        self.model = nn.Sequential(\n",
    "            nn.Embedding(num_characters, embedding_dim),\n",
    "            nn.Flatten(),\n",
    "            nn.Linear(context_size * embedding_dim, hidden_dim),\n",
    "            nn.ReLU(),\n",
    "            nn.Linear(hidden_dim, 100),\n",
    "            nn.ReLU(),\n",
    "            nn.Linear(100, num_characters)\n",
    "        )\n",
    "\n",
    "\n",
    "        self.apply(self.__init_weights)\n",
    "\n",
    "        print(f\"Number of parameters: {self.get_num_parameters()}\")\n",
    "\n",
    "    def __init_weights(self, module):\n",
    "        if isinstance(module, nn.Linear):\n",
    "            nn.init.xavier_uniform_(module.weight)\n",
    "            nn.init.zeros_(module.bias)\n",
    "        elif isinstance(module, nn.Embedding):\n",
    "            nn.init.xavier_uniform_(module.weight)\n",
    "            if module.padding_idx is not None:\n",
    "                nn.init.zeros_(module.weight[module.weight.padding_idx])\n",
    "\n",
    "    def get_num_parameters(self, trainable_only=True):\n",
    "        return sum(p.numel() for p in self.parameters() if not trainable_only or p.requires_grad)\n",
    "\n",
    "    def forward(self, x):\n",
    "        logits = self.model(x)\n",
    "        return logits\n",
    "\n",
    "\n",
    "def train(\n",
    "    mlp,\n",
    "    X_tr,\n",
    "    Y_tr,\n",
    "    lr: float = 1e-3,\n",
    "    epochs: int = 1000,\n",
    "    batch_size=32,\n",
    "    generator=None,\n",
    "    device=\"cpu\",\n",
    "):\n",
    "    mlp.train()\n",
    "    optimizer = torch.optim.AdamW(mlp.parameters(), lr=lr)\n",
    "    loss_fn = nn.CrossEntropyLoss()\n",
    "\n",
    "\n",
    "    X_tr = X_tr.to(device)\n",
    "    Y_tr = Y_tr.to(device)\n",
    "    train_losses = []\n",
    "    for e in tqdm.tqdm(range(epochs), position=0, leave=True):\n",
    "        mini_batch_idx = torch.randint(\n",
    "            0, X_tr.shape[0], (batch_size,), generator=generator\n",
    "        )\n",
    "        X_batch = X_tr[mini_batch_idx]\n",
    "        Y_batch = Y_tr[mini_batch_idx]\n",
    "\n",
    "        logits = mlp(X_batch)\n",
    "        loss = loss_fn(logits, Y_batch)\n",
    "        train_losses.append(loss.item())\n",
    "\n",
    "        loss.backward()\n",
    "        optimizer.step()\n",
    "        optimizer.zero_grad()\n",
    "\n",
    "\n",
    "    print(f\"Finished training: Train Loss: {train_losses[-1]:.4f}\")\n",
    "\n",
    "    return train_losses\n",
    "\n",
    "\n",
    "@torch.no_grad()\n",
    "def eval_model(mlp, X, Y):\n",
    "    loss_fn = nn.CrossEntropyLoss()\n",
    "    mlp.eval()\n",
    "    logits = mlp(X)\n",
    "    loss = loss_fn(logits, Y).item()\n",
    "\n",
    "    prob = logits.softmax(dim=1)\n",
    "    Y_pred = prob.argmax(dim=1)\n",
    "    acc = (Y_pred == Y).float().mean()\n",
    "    \n",
    "    return loss, acc"
   ]
  },
  {
   "cell_type": "code",
   "execution_count": 104,
   "metadata": {},
   "outputs": [
    {
     "name": "stdout",
     "output_type": "stream",
     "text": [
      "X.shape: torch.Size([228146, 3]), Y.shape: torch.Size([228146])\n",
      "X_t.shape: torch.Size([182516, 3]), Y_t.shape: torch.Size([182516])\n",
      "X_v.shape: torch.Size([22815, 3]), Y_v.shape: torch.Size([22815])\n",
      "X_test.shape: torch.Size([22815, 3]), Y_test.shape: torch.Size([22815])\n"
     ]
    }
   ],
   "source": [
    "X, Y = build_dataset(names, shuffle=True, seed=None)\n",
    "X = X.to(device)\n",
    "Y = Y.to(device)\n",
    "X_tr, Y_tr, X_v, Y_v, X_te, Y_te = split_dataset(\n",
    "    X, Y, train_ratio=0.8, val_ratio=0.1\n",
    ")"
   ]
  },
  {
   "cell_type": "code",
   "execution_count": 105,
   "metadata": {},
   "outputs": [
    {
     "name": "stdout",
     "output_type": "stream",
     "text": [
      "Number of parameters: 104555\n"
     ]
    }
   ],
   "source": [
    "mlp = MLP(generator=generator, embedding_dim=32, hidden_dim=512).to(device)"
   ]
  },
  {
   "cell_type": "code",
   "execution_count": 108,
   "metadata": {},
   "outputs": [
    {
     "name": "stderr",
     "output_type": "stream",
     "text": [
      "100%|██████████| 100000/100000 [02:24<00:00, 693.65it/s]"
     ]
    },
    {
     "name": "stdout",
     "output_type": "stream",
     "text": [
      "Finished training: Train Loss: 1.8671\n"
     ]
    },
    {
     "name": "stderr",
     "output_type": "stream",
     "text": [
      "\n"
     ]
    }
   ],
   "source": [
    "train_losses = train(\n",
    "    mlp, X_tr, Y_tr, lr=5e-4, epochs=100_000, batch_size=64, device=device\n",
    ")\n"
   ]
  },
  {
   "cell_type": "code",
   "execution_count": 109,
   "metadata": {},
   "outputs": [
    {
     "data": {
      "text/plain": [
       "[<matplotlib.lines.Line2D at 0x7fb7ccca83d0>]"
      ]
     },
     "execution_count": 109,
     "metadata": {},
     "output_type": "execute_result"
    },
    {
     "data": {
      "image/png": "[encoded data removed]",
      "text/plain": [
       "<Figure size 720x360 with 1 Axes>"
      ]
     },
     "metadata": {
      "needs_background": "light"
     },
     "output_type": "display_data"
    }
   ],
   "source": [
    "plt.figure(figsize=(10, 5))\n",
    "plt.plot(np.arange(len(train_losses)), np.log(train_losses), label=\"Train Loss\")\n"
   ]
  },
  {
   "cell_type": "code",
   "execution_count": 118,
   "metadata": {},
   "outputs": [
    {
     "name": "stdout",
     "output_type": "stream",
     "text": [
      "Val Loss: 2.1049\n",
      "Test Loss: 2.0797\n"
     ]
    }
   ],
   "source": [
    "val_loss, val_acc = eval_model(mlp, X_v, Y_v)\n",
    "print(f\"Val Loss: {val_loss:.4f}\")\n",
    "\n",
    "test_loss, test_acc = eval_model(mlp, X_te, Y_te)\n",
    "print(f\"Test Loss: {test_loss:.4f}\")"
   ]
  },
  {
   "cell_type": "code",
   "execution_count": 119,
   "metadata": {},
   "outputs": [
    {
     "data": {
      "text/plain": [
       "(tensor(0.3353, device='cuda:0'), tensor(0.3440, device='cuda:0'))"
      ]
     },
     "execution_count": 119,
     "metadata": {},
     "output_type": "execute_result"
    }
   ],
   "source": [
    "val_acc, test_acc"
   ]
  },
  {
   "cell_type": "code",
   "execution_count": 135,
   "metadata": {},
   "outputs": [
    {
     "name": "stdout",
     "output_type": "stream",
     "text": [
      "(1.9715803861618042, tensor(0.3620, device='cuda:0'))\n"
     ]
    }
   ],
   "source": [
    "print(eval_model(mlp, X_tr, Y_tr))"
   ]
  },
  {
   "cell_type": "code",
   "execution_count": 158,
   "metadata": {},
   "outputs": [],
   "source": [
    "@torch.no_grad()\n",
    "def generate(mlp, context_size, itos, device=\"cpu\", generator=generator):\n",
    "    context = [0] * context_size\n",
    "\n",
    "    word = \"\"\n",
    "    mlp.eval()\n",
    "    mlp.to(device)\n",
    "    while True:\n",
    "        context_tensor = torch.unsqueeze(torch.tensor(context), dim=0).to(device)\n",
    "        logits = mlp(context_tensor)\n",
    "        prob = logits.softmax(dim=1)\n",
    "        next_letter_idx = torch.multinomial(\n",
    "            prob, num_samples=1, replacement=True, generator=generator\n",
    "        ).item()\n",
    "        context = context[1:] + [next_letter_idx]\n",
    "        letter = itos[next_letter_idx]\n",
    "        if letter == \".\":\n",
    "            break\n",
    "        word += letter\n",
    "\n",
    "    return word\n"
   ]
  },
  {
   "cell_type": "code",
   "execution_count": 159,
   "metadata": {},
   "outputs": [
    {
     "name": "stdout",
     "output_type": "stream",
     "text": [
      "angstefanovan\n",
      "mel\n",
      "maka\n",
      "valee\n",
      "daris\n",
      "ely\n",
      "jazziah\n",
      "nechazella\n",
      "nashimso\n",
      "kylah\n"
     ]
    }
   ],
   "source": [
    "for i in range(10):\n",
    "    word = generate(\n",
    "        mlp, context_size=CONTEXT_SIZE, itos=itos, device=\"cpu\", generator=generator\n",
    "    )\n",
    "    print(word)\n"
   ]
  },
  {
   "cell_type": "markdown",
   "metadata": {},
   "source": []
  }
 ],
 "metadata": {
  "kernelspec": {
   "display_name": "Python 3.8.11 ('hack')",
   "language": "python",
   "name": "python3"
  },
  "language_info": {
   "codemirror_mode": {
    "name": "ipython",
    "version": 3
   },
   "file_extension": ".py",
   "mimetype": "text/x-python",
   "name": "python",
   "nbconvert_exporter": "python",
   "pygments_lexer": "ipython3",
   "version": "3.8.11"
  },
  "orig_nbformat": 4,
  "vscode": {
   "interpreter": {
    "hash": "2004396fbf695ace3d2210ffaf91cdcbc7be3e6f44119d1851f93c806d44b400"
   }
  }
 },
 "nbformat": 4,
 "nbformat_minor": 2
}
