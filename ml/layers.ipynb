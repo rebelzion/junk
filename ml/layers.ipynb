{
 "cells": [
  {
   "cell_type": "code",
   "execution_count": 1,
   "metadata": {},
   "outputs": [],
   "source": [
    "import torch\n",
    "import torch.nn as nn"
   ]
  },
  {
   "cell_type": "code",
   "execution_count": null,
   "metadata": {},
   "outputs": [],
   "source": [
    "class MyDropout(nn.Module):\n",
    "\n",
    "    def __init__(self, p: float = 0.5):\n",
    "        super().__init__()\n",
    "\n",
    "        assert (p >= 0) and (p <= 1), f\" {p=} must be between 0 and 1\"\n",
    "        self.p = p\n",
    "\n",
    "    def forward(self, x: torch.Tensor) -> torch.Tensor:\n",
    "        if self.training:\n",
    "            mask = torch.rand(x.shape) > self.p\n",
    "            return x * mask\n",
    "        else:\n",
    "            return x"
   ]
  }
 ],
 "metadata": {
  "kernelspec": {
   "display_name": "hack",
   "language": "python",
   "name": "python3"
  },
  "language_info": {
   "codemirror_mode": {
    "name": "ipython",
    "version": 3
   },
   "file_extension": ".py",
   "mimetype": "text/x-python",
   "name": "python",
   "nbconvert_exporter": "python",
   "pygments_lexer": "ipython3",
   "version": "3.8.11 (default, Aug  3 2021, 15:09:35) \n[GCC 7.5.0]"
  },
  "orig_nbformat": 4,
  "vscode": {
   "interpreter": {
    "hash": "2004396fbf695ace3d2210ffaf91cdcbc7be3e6f44119d1851f93c806d44b400"
   }
  }
 },
 "nbformat": 4,
 "nbformat_minor": 2
}
