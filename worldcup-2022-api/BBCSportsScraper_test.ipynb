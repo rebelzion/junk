{
 "cells": [
  {
   "cell_type": "code",
   "execution_count": 28,
   "metadata": {},
   "outputs": [
    {
     "name": "stdout",
     "output_type": "stream",
     "text": [
      "The autoreload extension is already loaded. To reload it, use:\n",
      "  %reload_ext autoreload\n"
     ]
    }
   ],
   "source": [
    "# reload python notebook import\n",
    "%load_ext autoreload\n",
    "%autoreload 2"
   ]
  },
  {
   "cell_type": "code",
   "execution_count": 29,
   "metadata": {},
   "outputs": [],
   "source": [
    "import datetime\n",
    "from selenium.webdriver.common.by import By\n",
    "from BBCSportsScraper import BBCSoccerScraper, LEAGUE"
   ]
  },
  {
   "cell_type": "code",
   "execution_count": 30,
   "metadata": {},
   "outputs": [],
   "source": [
    "scraper = BBCSoccerScraper(use_prod=True)\n",
    "league, date = LEAGUE.WORLD_CUP.value, datetime.date(2022, 11, 27)"
   ]
  },
  {
   "cell_type": "code",
   "execution_count": 23,
   "metadata": {},
   "outputs": [
    {
     "name": "stdout",
     "output_type": "stream",
     "text": [
      "Sleeping for 5 seconds to avoid being blocked.\n",
      "url: https://www.bbc.com/sport/football/world-cup/scores-fixtures/2022-11-27\n"
     ]
    }
   ],
   "source": [
    "soup = scraper._get_soup(date=date, league=league)"
   ]
  },
  {
   "cell_type": "code",
   "execution_count": 24,
   "metadata": {},
   "outputs": [
    {
     "name": "stdout",
     "output_type": "stream",
     "text": [
      "2022/11/27(ft): japan 0 - 1 costa rica - ft\n",
      "\tjapan:\n",
      "\tcosta rica:\n",
      "\t\ttotal_goals = 1\n",
      "\t\th1_goals = 0\n",
      "\t\th2_goals = 1\n",
      "\t\tpenalties_scored = 0\n",
      "\t\tred_cards = 0\n",
      "2022/11/27(ft): spain 1 - 1 germany - ft\n",
      "\tspain:\n",
      "\t\ttotal_goals = 1\n",
      "\t\th1_goals = 0\n",
      "\t\th2_goals = 1\n",
      "\t\tpenalties_scored = 0\n",
      "\t\tred_cards = 0\n",
      "\tgermany:\n",
      "\t\ttotal_goals = 1\n",
      "\t\th1_goals = 0\n",
      "\t\th2_goals = 1\n",
      "\t\tpenalties_scored = 0\n",
      "\t\tred_cards = 0\n",
      "2022/11/27(ft): belgium 0 - 2 morocco - ft\n",
      "\tbelgium:\n",
      "\tmorocco:\n",
      "\t\ttotal_goals = 2\n",
      "\t\th1_goals = 0\n",
      "\t\th2_goals = 2\n",
      "\t\tpenalties_scored = 0\n",
      "\t\tred_cards = 0\n",
      "2022/11/27(ft): croatia 4 - 1 canada - ft\n",
      "\tcroatia:\n",
      "\t\ttotal_goals = 4\n",
      "\t\th1_goals = 2\n",
      "\t\th2_goals = 2\n",
      "\t\tpenalties_scored = 0\n",
      "\t\tred_cards = 0\n",
      "\tcanada:\n",
      "\t\ttotal_goals = 1\n",
      "\t\th1_goals = 1\n",
      "\t\th2_goals = 0\n",
      "\t\tpenalties_scored = 0\n",
      "\t\tred_cards = 0\n"
     ]
    }
   ],
   "source": [
    "results = scraper._get_matches_date_half_and_fulltime_score(soup, date=date)\n",
    "for (home_team, home_score, away_score, away_team), date, status, home_stats, away_stats in results:\n",
    "    if status == 'ft' or 'mins' in status:\n",
    "        print(f\"{date.year}/{date.month}/{date.day}({status}): {home_team} {home_score[0]} - {away_score[0]} {away_team} - {status}\")\n",
    "    else:\n",
    "        print(f\"{date.year}/{date.month}/{date.day}({status}): {home_team} - {away_team}\")\n",
    "    \n",
    "    print(f\"\\t{home_team}:\")\n",
    "    for k,v in home_stats.items():\n",
    "        if isinstance(v, int) > 0:\n",
    "            print(f\"\\t\\t{k} = {v}\")\n",
    "    print(f\"\\t{away_team}:\")\n",
    "    for k,v in away_stats.items():\n",
    "        if isinstance(v, int) > 0:\n",
    "            print(f\"\\t\\t{k} = {v}\")"
   ]
  },
  {
   "cell_type": "code",
   "execution_count": 31,
   "metadata": {},
   "outputs": [
    {
     "name": "stderr",
     "output_type": "stream",
     "text": [
      "  0%|          | 0/4 [00:00<?, ?it/s]"
     ]
    },
    {
     "name": "stdout",
     "output_type": "stream",
     "text": [
      "Sleeping for 2 seconds to avoid being blocked.\n",
      "url: https://www.bbc.com/sport/football/world-cup/scores-fixtures/2022-11-26\n"
     ]
    },
    {
     "name": "stderr",
     "output_type": "stream",
     "text": [
      " 25%|██▌       | 1/4 [00:08<00:25,  8.38s/it]"
     ]
    },
    {
     "name": "stdout",
     "output_type": "stream",
     "text": [
      "Sleeping for 1 seconds to avoid being blocked.\n",
      "url: https://www.bbc.com/sport/football/world-cup/scores-fixtures/2022-11-27\n"
     ]
    },
    {
     "name": "stderr",
     "output_type": "stream",
     "text": [
      " 50%|█████     | 2/4 [00:15<00:15,  7.80s/it]"
     ]
    },
    {
     "name": "stdout",
     "output_type": "stream",
     "text": [
      "Sleeping for 3 seconds to avoid being blocked.\n",
      "url: https://www.bbc.com/sport/football/world-cup/scores-fixtures/2022-11-28\n"
     ]
    },
    {
     "name": "stderr",
     "output_type": "stream",
     "text": [
      " 75%|███████▌  | 3/4 [00:22<00:07,  7.53s/it]"
     ]
    },
    {
     "name": "stdout",
     "output_type": "stream",
     "text": [
      "Sleeping for 4 seconds to avoid being blocked.\n",
      "url: https://www.bbc.com/sport/football/world-cup/scores-fixtures/2022-11-29\n"
     ]
    },
    {
     "name": "stderr",
     "output_type": "stream",
     "text": [
      "100%|██████████| 4/4 [00:33<00:00,  8.35s/it]\n"
     ]
    }
   ],
   "source": [
    "results = scraper.scrape_range(end_date=datetime.datetime.today(), league=LEAGUE.WORLD_CUP.value, last_n_days=3)"
   ]
  },
  {
   "cell_type": "code",
   "execution_count": 34,
   "metadata": {},
   "outputs": [
    {
     "name": "stdout",
     "output_type": "stream",
     "text": [
      "2022-11-26\n",
      "2022/11/26(ft): poland 2 - 0 saudi arabia - ft\n",
      "\tpoland:\n",
      "\t\ttotal_goals = 2\n",
      "\t\th1_goals = 1\n",
      "\t\th2_goals = 1\n",
      "\t\tpenalties_scored = 0\n",
      "\t\tred_cards = 0\n",
      "\tsaudi arabia:\n",
      "2022/11/26(ft): argentina 2 - 0 mexico - ft\n",
      "\targentina:\n",
      "\t\ttotal_goals = 2\n",
      "\t\th1_goals = 0\n",
      "\t\th2_goals = 2\n",
      "\t\tpenalties_scored = 0\n",
      "\t\tred_cards = 0\n",
      "\tmexico:\n",
      "2022/11/26(ft): tunisia 0 - 1 australia - ft\n",
      "\ttunisia:\n",
      "\taustralia:\n",
      "\t\ttotal_goals = 1\n",
      "\t\th1_goals = 1\n",
      "\t\th2_goals = 0\n",
      "\t\tpenalties_scored = 0\n",
      "\t\tred_cards = 0\n",
      "2022/11/26(ft): france 2 - 1 denmark - ft\n",
      "\tfrance:\n",
      "\t\ttotal_goals = 2\n",
      "\t\th1_goals = 0\n",
      "\t\th2_goals = 2\n",
      "\t\tpenalties_scored = 0\n",
      "\t\tred_cards = 0\n",
      "\tdenmark:\n",
      "\t\ttotal_goals = 1\n",
      "\t\th1_goals = 0\n",
      "\t\th2_goals = 1\n",
      "\t\tpenalties_scored = 0\n",
      "\t\tred_cards = 0\n",
      "2022-11-27\n",
      "2022/11/27(ft): japan 0 - 1 costa rica - ft\n",
      "\tjapan:\n",
      "\tcosta rica:\n",
      "\t\ttotal_goals = 1\n",
      "\t\th1_goals = 0\n",
      "\t\th2_goals = 1\n",
      "\t\tpenalties_scored = 0\n",
      "\t\tred_cards = 0\n",
      "2022/11/27(ft): spain 1 - 1 germany - ft\n",
      "\tspain:\n",
      "\t\ttotal_goals = 1\n",
      "\t\th1_goals = 0\n",
      "\t\th2_goals = 1\n",
      "\t\tpenalties_scored = 0\n",
      "\t\tred_cards = 0\n",
      "\tgermany:\n",
      "\t\ttotal_goals = 1\n",
      "\t\th1_goals = 0\n",
      "\t\th2_goals = 1\n",
      "\t\tpenalties_scored = 0\n",
      "\t\tred_cards = 0\n",
      "2022/11/27(ft): belgium 0 - 2 morocco - ft\n",
      "\tbelgium:\n",
      "\tmorocco:\n",
      "\t\ttotal_goals = 2\n",
      "\t\th1_goals = 0\n",
      "\t\th2_goals = 2\n",
      "\t\tpenalties_scored = 0\n",
      "\t\tred_cards = 0\n",
      "2022/11/27(ft): croatia 4 - 1 canada - ft\n",
      "\tcroatia:\n",
      "\t\ttotal_goals = 4\n",
      "\t\th1_goals = 2\n",
      "\t\th2_goals = 2\n",
      "\t\tpenalties_scored = 0\n",
      "\t\tred_cards = 0\n",
      "\tcanada:\n",
      "\t\ttotal_goals = 1\n",
      "\t\th1_goals = 1\n",
      "\t\th2_goals = 0\n",
      "\t\tpenalties_scored = 0\n",
      "\t\tred_cards = 0\n",
      "2022-11-28\n",
      "2022/11/28(ft): cameroon 3 - 3 serbia - ft\n",
      "\tcameroon:\n",
      "\t\ttotal_goals = 3\n",
      "\t\th1_goals = 1\n",
      "\t\th2_goals = 2\n",
      "\t\tpenalties_scored = 0\n",
      "\t\tred_cards = 0\n",
      "\tserbia:\n",
      "\t\ttotal_goals = 3\n",
      "\t\th1_goals = 2\n",
      "\t\th2_goals = 1\n",
      "\t\tpenalties_scored = 0\n",
      "\t\tred_cards = 0\n",
      "2022/11/28(ft): brazil 1 - 0 switzerland - ft\n",
      "\tbrazil:\n",
      "\t\ttotal_goals = 1\n",
      "\t\th1_goals = 0\n",
      "\t\th2_goals = 1\n",
      "\t\tpenalties_scored = 0\n",
      "\t\tred_cards = 0\n",
      "\tswitzerland:\n",
      "2022/11/28(ft): south korea 2 - 3 ghana - ft\n",
      "\tsouth korea:\n",
      "\t\ttotal_goals = 2\n",
      "\t\th1_goals = 0\n",
      "\t\th2_goals = 2\n",
      "\t\tpenalties_scored = 0\n",
      "\t\tred_cards = 0\n",
      "\tghana:\n",
      "\t\ttotal_goals = 3\n",
      "\t\th1_goals = 2\n",
      "\t\th2_goals = 1\n",
      "\t\tpenalties_scored = 0\n",
      "\t\tred_cards = 0\n",
      "2022/11/28(ft): portugal 2 - 0 uruguay - ft\n",
      "\tportugal:\n",
      "\t\ttotal_goals = 2\n",
      "\t\th1_goals = 0\n",
      "\t\th2_goals = 2\n",
      "\t\tpenalties_scored = 1\n",
      "\t\tred_cards = 0\n",
      "\turuguay:\n",
      "2022-11-29\n",
      "2022/11/29(): ecuador - senegal\n",
      "\tecuador:\n",
      "\tsenegal:\n",
      "2022/11/29(): netherlands - qatar\n",
      "\tnetherlands:\n",
      "\tqatar:\n",
      "2022/11/29(): iran - usa\n",
      "\tiran:\n",
      "\tusa:\n",
      "2022/11/29(): wales - england\n",
      "\twales:\n",
      "\tengland:\n"
     ]
    }
   ],
   "source": [
    "for dt, res in results.items():\n",
    "    print(dt)\n",
    "    for (home_team, home_score, away_score, away_team), date, status, home_stats, away_stats in res:\n",
    "        if status == 'ft' or 'mins' in status:\n",
    "            print(f\"{date.year}/{date.month}/{date.day}({status}): {home_team} {home_score[0]} - {away_score[0]} {away_team} - {status}\")\n",
    "        else:\n",
    "            print(f\"{date.year}/{date.month}/{date.day}({status}): {home_team} - {away_team}\")\n",
    "        \n",
    "        print(f\"\\t{home_team}:\")\n",
    "        for k,v in home_stats.items():\n",
    "            if isinstance(v, int) > 0:\n",
    "                print(f\"\\t\\t{k} = {v}\")\n",
    "        print(f\"\\t{away_team}:\")\n",
    "        for k,v in away_stats.items():\n",
    "            if isinstance(v, int) > 0:\n",
    "                print(f\"\\t\\t{k} = {v}\")"
   ]
  },
  {
   "cell_type": "code",
   "execution_count": null,
   "metadata": {},
   "outputs": [],
   "source": []
  }
 ],
 "metadata": {
  "kernelspec": {
   "display_name": "Python 3.8.11 ('hack')",
   "language": "python",
   "name": "python3"
  },
  "language_info": {
   "codemirror_mode": {
    "name": "ipython",
    "version": 3
   },
   "file_extension": ".py",
   "mimetype": "text/x-python",
   "name": "python",
   "nbconvert_exporter": "python",
   "pygments_lexer": "ipython3",
   "version": "3.8.11"
  },
  "orig_nbformat": 4,
  "vscode": {
   "interpreter": {
    "hash": "2004396fbf695ace3d2210ffaf91cdcbc7be3e6f44119d1851f93c806d44b400"
   }
  }
 },
 "nbformat": 4,
 "nbformat_minor": 2
}
