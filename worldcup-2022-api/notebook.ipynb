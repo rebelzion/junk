{
 "cells": [
  {
   "cell_type": "code",
   "execution_count": 37,
   "metadata": {},
   "outputs": [],
   "source": [
    "import models\n",
    "from sqlalchemy.orm import Session\n",
    "from database import SessionLocal, engine\n",
    "from datetime import datetime"
   ]
  },
  {
   "cell_type": "code",
   "execution_count": 38,
   "metadata": {},
   "outputs": [],
   "source": [
    "models.Base.metadata.create_all(bind=engine)"
   ]
  },
  {
   "cell_type": "code",
   "execution_count": 39,
   "metadata": {},
   "outputs": [],
   "source": [
    "def get_db():\n",
    "    try:\n",
    "        db = SessionLocal()\n",
    "        yield db\n",
    "    finally:\n",
    "        db.close()\n",
    "\n",
    "def add_fixture(db: Session, fixture: models.FixtureResults):\n",
    "    db.add(fixture)\n",
    "    db.commit()\n",
    "\n",
    "def delete_rows(db: Session, model: models.Base):\n",
    "    db.query(model).delete()\n",
    "    db.commit()"
   ]
  },
  {
   "cell_type": "code",
   "execution_count": null,
   "metadata": {},
   "outputs": [],
   "source": [
    "# TODO @vronin: add example to add standings, update standings, add player, update player, add fixture, update fixture"
   ]
  },
  {
   "cell_type": "code",
   "execution_count": null,
   "metadata": {},
   "outputs": [],
   "source": [
    "# Example to add fixture\n",
    "\n",
    "fixture = models.FixtureResults()\n",
    "fixture.date = datetime(year=2022, month=11, day=21)\n",
    "fixture.home_team = \"england\"\n",
    "fixture.away_team = \"iran\"\n",
    "fixture.home_team_score = 6\n",
    "fixture.away_team_score = 2\n",
    "fixture.status = \"completed\"\n",
    "fixture.red_cards = 0\n",
    "fixture.stage = \"groups\"\n",
    "\n",
    "with SessionLocal() as sess:\n",
    "    add_fixture(sess, fixture)"
   ]
  },
  {
   "cell_type": "code",
   "execution_count": 49,
   "metadata": {},
   "outputs": [],
   "source": [
    "# Example to delete all fixtures\n",
    "\n",
    "# #with SessionLocal() as sess:\n",
    "#     delete_rows(sess, models.FixtureResults)"
   ]
  }
 ],
 "metadata": {
  "kernelspec": {
   "display_name": "Python 3.8.8 ('myenv': venv)",
   "language": "python",
   "name": "python3"
  },
  "language_info": {
   "codemirror_mode": {
    "name": "ipython",
    "version": 3
   },
   "file_extension": ".py",
   "mimetype": "text/x-python",
   "name": "python",
   "nbconvert_exporter": "python",
   "pygments_lexer": "ipython3",
   "version": "3.8.8"
  },
  "orig_nbformat": 4,
  "vscode": {
   "interpreter": {
    "hash": "0a1210bbf63cdc7ca5a417a3f4460f6505bc059902ec9db29a3a2c9755d56634"
   }
  }
 },
 "nbformat": 4,
 "nbformat_minor": 2
}
